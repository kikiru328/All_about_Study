{
 "cells": [
  {
   "cell_type": "code",
   "execution_count": 30,
   "metadata": {},
   "outputs": [],
   "source": [
    "import warnings\n",
    "warnings.filterwarnings('ignore')"
   ]
  },
  {
   "cell_type": "code",
   "execution_count": 31,
   "metadata": {},
   "outputs": [
    {
     "name": "stdout",
     "output_type": "stream",
     "text": [
      "70\n"
     ]
    }
   ],
   "source": [
    "# T1-1\n",
    "# 출력을 원할 경우 print() 함수 활용\n",
    "# 예시) print(df.head())\n",
    "\n",
    "# getcwd(), chdir() 등 작업 폴더 설정 불필요\n",
    "# 파일 경로 상 내부 드라이브 경로(C: 등) 접근 불가\n",
    "\n",
    "\"\"\"\n",
    "문제 : 데이터에서 IQR을 활용해 Fare 컬럼의 이상치를 찾고, 이상치 데이터의 여성 수를 구하시오.\n",
    "\"\"\"\n",
    "# 데이터 파일 읽기 예제\n",
    "import pandas as pd\n",
    "a = pd.read_csv(\"./titanic_train.csv\")\n",
    "# 사용자 코딩\n",
    "q1 = a['Fare'].quantile(.25)\n",
    "q3 = a['Fare'].quantile(.75)\n",
    "IQR = q3-q1\n",
    "low_out, high_out = (q1-(1.5*IQR), q3+(1.5*IQR))\n",
    "low_outlier = a[a['Fare']<low_out]\n",
    "high_outlier = a[a['Fare']>high_out]\n",
    "\n",
    "# 답안 제출 예시\n",
    "# print(평균변수값)\n",
    "print(len(high_outlier[high_outlier['Sex']=='female']))\n"
   ]
  },
  {
   "cell_type": "code",
   "execution_count": 32,
   "metadata": {},
   "outputs": [
    {
     "name": "stdout",
     "output_type": "stream",
     "text": [
      "69.5\n"
     ]
    }
   ],
   "source": [
    "# T1-2\n",
    "# 출력을 원할 경우 print() 함수 활용\n",
    "# 예시) print(df.head())\n",
    "\n",
    "# getcwd(), chdir() 등 작업 폴더 설정 불필요\n",
    "# 파일 경로 상 내부 드라이브 경로(C: 등) 접근 불가\n",
    "\n",
    "\"\"\"\n",
    "문제 : 주어진 데이터에서 이상치(소수점 나이)를 찾고 올림, 내림 버림(절사)했을 때 3가지 모두 이상치 'age' 평균을 구한 다음 모두 더하여 출력하시오.\n",
    "\"\"\"\n",
    "\n",
    "# 데이터 파일 읽기 예제\n",
    "import pandas as pd\n",
    "df = pd.read_csv(\"./basic1.csv\")\n",
    "# 사용자 코딩\n",
    "import numpy as np\n",
    "age = df[(df['age'] - np.floor(df['age'])) != 0]\n",
    "ceil = np.ceil(age['age']).mean()\n",
    "floor = np.floor(age['age']).mean()\n",
    "trunc = np.trunc(age['age']).mean()\n",
    "\n",
    "# print(평균변수값)\n",
    "print(ceil + floor + trunc)\n"
   ]
  },
  {
   "cell_type": "code",
   "execution_count": 33,
   "metadata": {},
   "outputs": [
    {
     "name": "stdout",
     "output_type": "stream",
     "text": [
      "65.52\n"
     ]
    }
   ],
   "source": [
    "# T1-3\n",
    "# 출력을 원할 경우 print() 함수 활용\n",
    "# 예시) print(df.head())\n",
    "\n",
    "# getcwd(), chdir() 등 작업 폴더 설정 불필요\n",
    "# 파일 경로 상 내부 드라이브 경로(C: 등) 접근 불가\n",
    "\n",
    "\"\"\"\n",
    "문제 : 주어진 데이터에서 결측치가 80%이상 되는 컬럼은(변수는) 삭제하고, 80% 미만인 결측치가 있는 컬럼은 'city'별 중앙값으로 값을 대체하고 'f1'컬럼의 평균값을 출력하시오.\n",
    "\"\"\"\n",
    "\n",
    "# 데이터 파일 읽기 예제\n",
    "import pandas as pd\n",
    "df = pd.read_csv(\"./basic1.csv\")\n",
    "# 사용자 코딩\n",
    "df = df.drop(['f3'], axis=1)\n",
    "df['city'].unique()\n",
    "s=df[df['city']=='서울']['f1'].median()\n",
    "k=df[df['city']=='경기']['f1'].median()\n",
    "b=df[df['city']=='부산']['f1'].median()\n",
    "d=df[df['city']=='대구']['f1'].median()\n",
    "\n",
    "df['f1'] = df['f1'].fillna(df['city'].map({'서울':s,'경기':k,'부산':b,'대구':d}))         \n",
    "\n",
    "# print(평균변수값)\n",
    "print(df['f1'].mean())\n"
   ]
  },
  {
   "cell_type": "code",
   "execution_count": 34,
   "metadata": {},
   "outputs": [
    {
     "name": "stdout",
     "output_type": "stream",
     "text": [
      "11.5\n"
     ]
    }
   ],
   "source": [
    "# T1-4\n",
    "# 출력을 원할 경우 print() 함수 활용\n",
    "# 예시) print(df.head())\n",
    "\n",
    "# getcwd(), chdir() 등 작업 폴더 설정 불필요\n",
    "# 파일 경로 상 내부 드라이브 경로(C: 등) 접근 불가\n",
    "\n",
    "\"\"\"\n",
    "문제 : 주어진 데이터 중 train.csv에서 'SalePrice'컬럼의 왜도와 첨도를 구한 값과, 'SalePrice'컬럼을 스케일링(log1p)로 변환한 이후 왜도와 첨도를 구해 모두 더한 다음 소수점 2째자리까지 출력하시오\n",
    "\"\"\"\n",
    "\n",
    "# 데이터 파일 읽기 예제\n",
    "import pandas as pd\n",
    "df = pd.read_csv(\"./house_train.csv\")\n",
    "# 사용자 코딩\n",
    "SalePrice = df['SalePrice']\n",
    "skew = SalePrice.skew()\n",
    "kurt = SalePrice.kurt()\n",
    "\n",
    "import numpy as np\n",
    "skew_log = np.log1p(SalePrice.skew())\n",
    "kurt_log = np.log1p(SalePrice.kurt())\n",
    "\n",
    "# print(평균변수값)\n",
    "print(round(skew + skew_log + kurt + kurt_log,2))\n"
   ]
  },
  {
   "cell_type": "code",
   "execution_count": 35,
   "metadata": {},
   "outputs": [
    {
     "name": "stdout",
     "output_type": "stream",
     "text": [
      "5.859621525876811\n"
     ]
    }
   ],
   "source": [
    "# T1-5\n",
    "# 출력을 원할 경우 print() 함수 활용\n",
    "# 예시) print(df.head())\n",
    "\n",
    "# getcwd(), chdir() 등 작업 폴더 설정 불필요\n",
    "# 파일 경로 상 내부 드라이브 경로(C: 등) 접근 불가\n",
    "\n",
    "\"\"\"\n",
    "문제 : 주어진 데이터 중 basic1.csv에서 'f4'컬럼 값이 'ENFJ'와 'INFP'인 'f1'의 표준편차 차이를 절대값으로 구하시오\n",
    "\"\"\"\n",
    "\n",
    "# 데이터 파일 읽기 예제\n",
    "import pandas as pd\n",
    "df = pd.read_csv(\"./basic1.csv\")\n",
    "# 사용자 코딩\n",
    "entj = df[df['f4']=='ENFJ']['f1'].std()\n",
    "infp = df[df['f4']=='INFP']['f1'].std()\n",
    "\n",
    "import numpy as np\n",
    "# print(평균변수값)\n",
    "print(np.abs(entj-infp))"
   ]
  },
  {
   "cell_type": "code",
   "execution_count": 36,
   "metadata": {},
   "outputs": [
    {
     "name": "stdout",
     "output_type": "stream",
     "text": [
      "833.0\n"
     ]
    }
   ],
   "source": [
    "# T1-6\n",
    "# 출력을 원할 경우 print() 함수 활용\n",
    "# 예시) print(df.head())\n",
    "\n",
    "# getcwd(), chdir() 등 작업 폴더 설정 불필요\n",
    "# 파일 경로 상 내부 드라이브 경로(C: 등) 접근 불가\n",
    "\n",
    "\"\"\"\n",
    "문제 : 주어진 데이터 중 basic1.csv에서 'f1'컬럼 결측 데이터를 제거하고, 'city'와 'f2'을 기준으로 묶어 합계를 구하고, 'city가 경기이면서 f2가 0'인 조건에 만족하는 f1 값을 구하시오\n",
    "\"\"\"\n",
    "\n",
    "# 데이터 파일 읽기 예제\n",
    "import pandas as pd\n",
    "df = pd.read_csv(\"./basic1.csv\")\n",
    "# 사용자 코딩\n",
    "\n",
    "f1 = df[df['f1'].isnull()==False]\n",
    "f1g = f1.groupby(['city','f2']).sum()\n",
    "                 \n",
    "# print(평균변수값)\n",
    "print(f1g.iloc[0]['f1'])"
   ]
  },
  {
   "cell_type": "code",
   "execution_count": 37,
   "metadata": {},
   "outputs": [
    {
     "name": "stdout",
     "output_type": "stream",
     "text": [
      "90.0\n"
     ]
    }
   ],
   "source": [
    "# T1-7\n",
    "# 출력을 원할 경우 print() 함수 활용\n",
    "# 예시) print(df.head())\n",
    "\n",
    "# getcwd(), chdir() 등 작업 폴더 설정 불필요\n",
    "# 파일 경로 상 내부 드라이브 경로(C: 등) 접근 불가\n",
    "\n",
    "\"\"\"\n",
    "문제 : 'f4'컬럼의 값이 'ESFJ'인 데이터를 'ISFJ'로 대체하고, 'city'가 '경기'이면서 'f4'가 'ISFJ'인 데이터 중 'age'컬럼의 최대값을 출력하시오!\n",
    "\"\"\"\n",
    "\n",
    "# 데이터 파일 읽기 예제\n",
    "import pandas as pd\n",
    "df = pd.read_csv(\"./basic1.csv\")\n",
    "# 사용자 코딩\n",
    "df['f4'] = df['f4'].replace('ESFJ', 'ISFJ')\n",
    "                 \n",
    "# print(평균변수값)\n",
    "print(df[ (df['city']=='경기') & (df['f4']=='ISFJ')]['age'].max())\n"
   ]
  },
  {
   "cell_type": "code",
   "execution_count": 38,
   "metadata": {},
   "outputs": [
    {
     "name": "stdout",
     "output_type": "stream",
     "text": [
      "980.3783783783783\n"
     ]
    }
   ],
   "source": [
    "# T1-8\n",
    "# 출력을 원할 경우 print() 함수 활용\n",
    "# 예시) print(df.head())\n",
    "\n",
    "# getcwd(), chdir() 등 작업 폴더 설정 불필요\n",
    "# 파일 경로 상 내부 드라이브 경로(C: 등) 접근 불가\n",
    "\n",
    "\"\"\"\n",
    "문제 : 주어진 데이터 셋에서 'f2' 컬럼이 1인 조건에 해당하는 데이터의 'f1'컬럼 누적합을 계산한다. 이때 발생하는 누적합 결측치는 바로 뒤의 값을 채우고, 누적합의 평균값을 출력한다. (단, 결측치 바로 뒤의 값이 없으면 다음에 나오는 값을 채워넣는다)\n",
    "\"\"\"\n",
    "\n",
    "# 데이터 파일 읽기 예제\n",
    "import pandas as pd\n",
    "df = pd.read_csv(\"./basic1.csv\")\n",
    "# 사용자 코딩\n",
    "cum_sum = df[df['f2']==1]['f1'].cumsum()\n",
    "cum_sum = cum_sum.fillna(method ='bfill')\n",
    "                 \n",
    "# print(평균변수값)\n",
    "print(cum_sum.mean())\n"
   ]
  },
  {
   "cell_type": "code",
   "execution_count": 39,
   "metadata": {},
   "outputs": [
    {
     "name": "stdout",
     "output_type": "stream",
     "text": [
      "0.260619629559015\n"
     ]
    }
   ],
   "source": [
    "# T1-9\n",
    "# 출력을 원할 경우 print() 함수 활용\n",
    "# 예시) print(df.head())\n",
    "\n",
    "# getcwd(), chdir() 등 작업 폴더 설정 불필요\n",
    "# 파일 경로 상 내부 드라이브 경로(C: 등) 접근 불가\n",
    "\n",
    "\"\"\"\n",
    "문제 : 주어진 데이터에서 'f5'컬럼을 표준화(Standardization (Z-score Normalization))하고 그 중앙값을 구하시오\n",
    "\"\"\"\n",
    "\n",
    "# 데이터 파일 읽기 예제\n",
    "import pandas as pd\n",
    "df = pd.read_csv(\"./basic1.csv\")\n",
    "# 사용자 코딩\n",
    "from sklearn.preprocessing import StandardScaler\n",
    "scaler = StandardScaler()\n",
    "df['f5'] = scaler.fit_transform(df[['f5']])\n",
    "                 \n",
    "# print(평균변수값)\n",
    "print(df['f5'].median())\n"
   ]
  },
  {
   "cell_type": "code",
   "execution_count": 40,
   "metadata": {},
   "outputs": [
    {
     "name": "stdout",
     "output_type": "stream",
     "text": [
      "0.05\n"
     ]
    }
   ],
   "source": [
    "# T1-10\n",
    "# 출력을 원할 경우 print() 함수 활용\n",
    "# 예시) print(df.head())\n",
    "\n",
    "# getcwd(), chdir() 등 작업 폴더 설정 불필요\n",
    "# 파일 경로 상 내부 드라이브 경로(C: 등) 접근 불가\n",
    "\n",
    "\"\"\"\n",
    "문제 : 주어진 데이터에서 20세 이상인 데이터를 추출하고 'f1'컬럼을 결측치를 최빈값으로 채운 후, f1 컬럼의 여-존슨과 박스콕스 변환 값을 구하고, 두 값의 차이를 절대값으로 구한다음 모두 더해 소수점 둘째 자리까지 출력(반올림)하시오\n",
    "\"\"\"\n",
    "\n",
    "# 데이터 파일 읽기 예제\n",
    "import pandas as pd\n",
    "df = pd.read_csv(\"./basic1.csv\")\n",
    "# 사용자 코딩\n",
    "age = df[df['age']>=20]\n",
    "age['f1'] = age['f1'].fillna(age['f1'].mode()[0])\n",
    "from sklearn.preprocessing import power_transform\n",
    "age['yeo'] = power_transform(age[['f1']])\n",
    "age['box'] = power_transform(age[['f1']], method='box-cox')\n",
    "\n",
    "\n",
    "# print(평균변수값)\n",
    "\n",
    "print(round(sum(np.abs(age['yeo'] - age['box'])),2))"
   ]
  },
  {
   "cell_type": "code",
   "execution_count": 53,
   "metadata": {},
   "outputs": [
    {
     "name": "stdout",
     "output_type": "stream",
     "text": [
      "88.4\n"
     ]
    }
   ],
   "source": [
    "# T1-12\n",
    "# 출력을 원할 경우 print() 함수 활용\n",
    "# 예시) print(df.head())\n",
    "\n",
    "# getcwd(), chdir() 등 작업 폴더 설정 불필요\n",
    "# 파일 경로 상 내부 드라이브 경로(C: 등) 접근 불가\n",
    "\n",
    "\"\"\"\n",
    "문제 : 주어진 데이터에서 상위 10개 국가의 접종률 평균과 하위 10개 국가의 접종률 평균을 구하고, 그 차이를 구해보세요 \n",
    "(단, 100%가 넘는 접종률 제거, 소수 첫째자리까지 출력)\n",
    "\"\"\"\n",
    "\n",
    "# 데이터 파일 읽기 예제\n",
    "import pandas as pd\n",
    "df = pd.read_csv(\"./covid-vaccination-vs-death_ratio.csv\")\n",
    "# 사용자 코딩\n",
    "dfg = df.groupby('country').max()\n",
    "dfg = dfg.sort_values('ratio', ascending=False)\n",
    "dfg = dfg[1:]\n",
    "head = dfg.head(10)['ratio'].mean()\n",
    "tail = dfg.tail(10)['ratio'].mean()\n",
    "\n",
    "# print(평균변수값)\n",
    "print(round(head-tail,1))\n"
   ]
  },
  {
   "cell_type": "code",
   "execution_count": 66,
   "metadata": {},
   "outputs": [
    {
     "name": "stdout",
     "output_type": "stream",
     "text": [
      "0.49\n"
     ]
    }
   ],
   "source": [
    "# T1-13\n",
    "# 출력을 원할 경우 print() 함수 활용\n",
    "# 예시) print(df.head())\n",
    "\n",
    "# getcwd(), chdir() 등 작업 폴더 설정 불필요\n",
    "# 파일 경로 상 내부 드라이브 경로(C: 등) 접근 불가\n",
    "\n",
    "\"\"\"\n",
    "문제 : 주어진 데이터에서 상관관계를 구하고, quality와의 상관관계가 가장 큰 값과, 가장 작은 값을 구한 다음 더하시오!\n",
    "단, quality와 quality 상관관계 제외, 소수점 둘째 자리까지 출력\n",
    "\"\"\"\n",
    "\n",
    "# 데이터 파일 읽기 예제\n",
    "import pandas as pd\n",
    "df = pd.read_csv(\"./winequality-red.csv\")\n",
    "# 사용자 코딩\n",
    "qua_corr = df.corr()['quality'][:-1]\n",
    "max_corr = abs(qua_corr).max()\n",
    "min_corr = abs(qua_corr).min()\n",
    "\n",
    "# print(평균변수값)\n",
    "print(round(max_corr + min_corr ,2))\n"
   ]
  },
  {
   "cell_type": "code",
   "execution_count": 82,
   "metadata": {},
   "outputs": [
    {
     "name": "stdout",
     "output_type": "stream",
     "text": [
      "643.68\n"
     ]
    }
   ],
   "source": [
    "# T1-14\n",
    "# 출력을 원할 경우 print() 함수 활용\n",
    "# 예시) print(df.head())\n",
    "\n",
    "# getcwd(), chdir() 등 작업 폴더 설정 불필요\n",
    "# 파일 경로 상 내부 드라이브 경로(C: 등) 접근 불가\n",
    "\n",
    "\"\"\"\n",
    "문제 : city와 f4를 기준으로 f5의 평균값을 구한 다음, f5를 기준으로 상위 7개 값을 모두 더해 출력하시오 (소수점 둘째자리까지 출력)\n",
    "\"\"\"\n",
    "\n",
    "# 데이터 파일 읽기 예제\n",
    "import pandas as pd\n",
    "df = pd.read_csv(\"./basic1.csv\")\n",
    "# 사용자 코딩\n",
    "\n",
    "f5_mean = df.groupby(['city','f4'])[['f5']].mean()\n",
    "f5_mean_top = f5_mean.reset_index().sort_values('f5', ascending=False).head(7)\n",
    "\n",
    "# print(평균변수값)\n",
    "print(round(f5_mean_top['f5'].sum(),2))\n"
   ]
  }
 ],
 "metadata": {
  "kernelspec": {
   "display_name": "Python 3.8.15 ('certification')",
   "language": "python",
   "name": "python3"
  },
  "language_info": {
   "codemirror_mode": {
    "name": "ipython",
    "version": 3
   },
   "file_extension": ".py",
   "mimetype": "text/x-python",
   "name": "python",
   "nbconvert_exporter": "python",
   "pygments_lexer": "ipython3",
   "version": "3.8.15"
  },
  "orig_nbformat": 4,
  "vscode": {
   "interpreter": {
    "hash": "06e76084ceedc4dc44add5528dba8a7a613840ec4cbcdf968da56c6a67983b10"
   }
  }
 },
 "nbformat": 4,
 "nbformat_minor": 2
}
