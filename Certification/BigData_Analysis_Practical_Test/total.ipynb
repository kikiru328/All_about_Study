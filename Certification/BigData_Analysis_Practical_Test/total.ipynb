{
 "cells": [
  {
   "cell_type": "code",
   "execution_count": 10,
   "metadata": {},
   "outputs": [
    {
     "name": "stdout",
     "output_type": "stream",
     "text": [
      "70\n"
     ]
    }
   ],
   "source": [
    "# T1-1\n",
    "# 출력을 원할 경우 print() 함수 활용\n",
    "# 예시) print(df.head())\n",
    "\n",
    "# getcwd(), chdir() 등 작업 폴더 설정 불필요\n",
    "# 파일 경로 상 내부 드라이브 경로(C: 등) 접근 불가\n",
    "\n",
    "\"\"\"\n",
    "문제 : 데이터에서 IQR을 활용해 Fare 컬럼의 이상치를 찾고, 이상치 데이터의 여성 수를 구하시오.\n",
    "\"\"\"\n",
    "# 데이터 파일 읽기 예제\n",
    "import pandas as pd\n",
    "a = pd.read_csv(\"./titanic_train.csv\")\n",
    "# 사용자 코딩\n",
    "q1 = a['Fare'].quantile(.25)\n",
    "q3 = a['Fare'].quantile(.75)\n",
    "IQR = q3-q1\n",
    "low_out, high_out = (q1-(1.5*IQR), q3+(1.5*IQR))\n",
    "low_outlier = a[a['Fare']<low_out]\n",
    "high_outlier = a[a['Fare']>high_out]\n",
    "\n",
    "# 답안 제출 예시\n",
    "# print(평균변수값)\n",
    "print(len(high_outlier[high_outlier['Sex']=='female']))\n"
   ]
  },
  {
   "cell_type": "code",
   "execution_count": 11,
   "metadata": {},
   "outputs": [
    {
     "name": "stdout",
     "output_type": "stream",
     "text": [
      "69.5\n"
     ]
    }
   ],
   "source": [
    "# T1-2\n",
    "# 출력을 원할 경우 print() 함수 활용\n",
    "# 예시) print(df.head())\n",
    "\n",
    "# getcwd(), chdir() 등 작업 폴더 설정 불필요\n",
    "# 파일 경로 상 내부 드라이브 경로(C: 등) 접근 불가\n",
    "\n",
    "\"\"\"\n",
    "문제 : 주어진 데이터에서 이상치(소수점 나이)를 찾고 올림, 내림 버림(절사)했을 때 3가지 모두 이상치 'age' 평균을 구한 다음 모두 더하여 출력하시오.\n",
    "\"\"\"\n",
    "\n",
    "# 데이터 파일 읽기 예제\n",
    "import pandas as pd\n",
    "df = pd.read_csv(\"./basic1.csv\")\n",
    "# 사용자 코딩\n",
    "import numpy as np\n",
    "age = df[(df['age'] - np.floor(df['age'])) != 0]\n",
    "ceil = np.ceil(age['age']).mean()\n",
    "floor = np.floor(age['age']).mean()\n",
    "trunc = np.trunc(age['age']).mean()\n",
    "\n",
    "# print(평균변수값)\n",
    "print(ceil + floor + trunc)\n"
   ]
  },
  {
   "cell_type": "code",
   "execution_count": 12,
   "metadata": {},
   "outputs": [
    {
     "name": "stdout",
     "output_type": "stream",
     "text": [
      "65.52\n"
     ]
    }
   ],
   "source": [
    "# T1-3\n",
    "# 출력을 원할 경우 print() 함수 활용\n",
    "# 예시) print(df.head())\n",
    "\n",
    "# getcwd(), chdir() 등 작업 폴더 설정 불필요\n",
    "# 파일 경로 상 내부 드라이브 경로(C: 등) 접근 불가\n",
    "\n",
    "\"\"\"\n",
    "문제 : 주어진 데이터에서 결측치가 80%이상 되는 컬럼은(변수는) 삭제하고, 80% 미만인 결측치가 있는 컬럼은 'city'별 중앙값으로 값을 대체하고 'f1'컬럼의 평균값을 출력하시오.\n",
    "\"\"\"\n",
    "\n",
    "# 데이터 파일 읽기 예제\n",
    "import pandas as pd\n",
    "df = pd.read_csv(\"./basic1.csv\")\n",
    "# 사용자 코딩\n",
    "df = df.drop(['f3'], axis=1)\n",
    "df['city'].unique()\n",
    "s=df[df['city']=='서울']['f1'].median()\n",
    "k=df[df['city']=='경기']['f1'].median()\n",
    "b=df[df['city']=='부산']['f1'].median()\n",
    "d=df[df['city']=='대구']['f1'].median()\n",
    "\n",
    "df['f1'] = df['f1'].fillna(df['city'].map({'서울':s,'경기':k,'부산':b,'대구':d}))         \n",
    "\n",
    "# print(평균변수값)\n",
    "print(df['f1'].mean())\n"
   ]
  },
  {
   "cell_type": "code",
   "execution_count": 13,
   "metadata": {},
   "outputs": [
    {
     "name": "stdout",
     "output_type": "stream",
     "text": [
      "11.5\n"
     ]
    }
   ],
   "source": [
    "# T1-4\n",
    "# 출력을 원할 경우 print() 함수 활용\n",
    "# 예시) print(df.head())\n",
    "\n",
    "# getcwd(), chdir() 등 작업 폴더 설정 불필요\n",
    "# 파일 경로 상 내부 드라이브 경로(C: 등) 접근 불가\n",
    "\n",
    "\"\"\"\n",
    "문제 : 주어진 데이터 중 train.csv에서 'SalePrice'컬럼의 왜도와 첨도를 구한 값과, 'SalePrice'컬럼을 스케일링(log1p)로 변환한 이후 왜도와 첨도를 구해 모두 더한 다음 소수점 2째자리까지 출력하시오\n",
    "\"\"\"\n",
    "\n",
    "# 데이터 파일 읽기 예제\n",
    "import pandas as pd\n",
    "df = pd.read_csv(\"./house_train.csv\")\n",
    "# 사용자 코딩\n",
    "SalePrice = df['SalePrice']\n",
    "skew = SalePrice.skew()\n",
    "kurt = SalePrice.kurt()\n",
    "\n",
    "import numpy as np\n",
    "skew_log = np.log1p(SalePrice.skew())\n",
    "kurt_log = np.log1p(SalePrice.kurt())\n",
    "\n",
    "# print(평균변수값)\n",
    "print(round(skew + skew_log + kurt + kurt_log,2))\n"
   ]
  },
  {
   "cell_type": "code",
   "execution_count": 18,
   "metadata": {},
   "outputs": [
    {
     "name": "stdout",
     "output_type": "stream",
     "text": [
      "5.859621525876811\n"
     ]
    }
   ],
   "source": [
    "# T1-5\n",
    "# 출력을 원할 경우 print() 함수 활용\n",
    "# 예시) print(df.head())\n",
    "\n",
    "# getcwd(), chdir() 등 작업 폴더 설정 불필요\n",
    "# 파일 경로 상 내부 드라이브 경로(C: 등) 접근 불가\n",
    "\n",
    "\"\"\"\n",
    "문제 : 주어진 데이터 중 basic1.csv에서 'f4'컬럼 값이 'ENFJ'와 'INFP'인 'f1'의 표준편차 차이를 절대값으로 구하시오\n",
    "\"\"\"\n",
    "\n",
    "# 데이터 파일 읽기 예제\n",
    "import pandas as pd\n",
    "df = pd.read_csv(\"./basic1.csv\")\n",
    "# 사용자 코딩\n",
    "entj = df[df['f4']=='ENFJ']['f1'].std()\n",
    "infp = df[df['f4']=='INFP']['f1'].std()\n",
    "\n",
    "import numpy as np\n",
    "# print(평균변수값)\n",
    "print(np.abs(entj-infp))"
   ]
  },
  {
   "cell_type": "code",
   "execution_count": null,
   "metadata": {},
   "outputs": [],
   "source": []
  }
 ],
 "metadata": {
  "kernelspec": {
   "display_name": "Python 3.8.15 ('certification')",
   "language": "python",
   "name": "python3"
  },
  "language_info": {
   "codemirror_mode": {
    "name": "ipython",
    "version": 3
   },
   "file_extension": ".py",
   "mimetype": "text/x-python",
   "name": "python",
   "nbconvert_exporter": "python",
   "pygments_lexer": "ipython3",
   "version": "3.8.15"
  },
  "orig_nbformat": 4,
  "vscode": {
   "interpreter": {
    "hash": "2891f31c4377dce168528288aa041f4b241674edc9e645fdc9316026329b9991"
   }
  }
 },
 "nbformat": 4,
 "nbformat_minor": 2
}
